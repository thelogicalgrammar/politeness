{
 "cells": [
  {
   "cell_type": "code",
   "execution_count": 1,
   "id": "3723435b-a237-42ca-a03a-ca23dccc243b",
   "metadata": {},
   "outputs": [],
   "source": [
    "import numpy as np\n",
    "import matplotlib.pyplot as plt"
   ]
  },
  {
   "cell_type": "markdown",
   "id": "bbc7cd0a-d3d3-431c-acf3-280323a8c5bf",
   "metadata": {
    "tags": []
   },
   "source": [
    "# Some useful functions"
   ]
  },
  {
   "cell_type": "code",
   "execution_count": 44,
   "id": "c75876d7-f722-4411-a715-ba8fa7bccca8",
   "metadata": {},
   "outputs": [],
   "source": [
    "def normalize(x, axis):\n",
    "    return x / x.sum(axis, keepdims=True)\n",
    "\n",
    "\n",
    "def softmax(x, alpha, axis):\n",
    "    a = np.exp(alpha * x)\n",
    "    return a / a.sum(axis=axis, keepdims=True)\n",
    "\n",
    "\n",
    "def calculate_L0(utterances_states_compatibility):\n",
    "    return normalize(utterances_states_compatibility, 1)\n",
    "\n",
    "\n",
    "def calculate_informativity(L0):\n",
    "    return np.log(L0)"
   ]
  },
  {
   "cell_type": "markdown",
   "id": "0d163e7c-1b10-4336-921e-dcbf5821e3dd",
   "metadata": {
    "jp-MarkdownHeadingCollapsed": true,
    "tags": []
   },
   "source": [
    "# Minimal model of PD"
   ]
  },
  {
   "cell_type": "markdown",
   "id": "e10feb7b-1753-4acd-9142-c512bc8f9423",
   "metadata": {},
   "source": [
    "The model is a production model. Main idea: We add two components to the utility\n",
    "- A component that encodes what the speaker is trying to do with the utterance. \n",
    "- A component that tends to punish the intentions."
   ]
  },
  {
   "cell_type": "markdown",
   "id": "5446d28f-e903-4d07-9523-e7159e724985",
   "metadata": {},
   "source": [
    "The basic structure of the model is as follows:"
   ]
  },
  {
   "cell_type": "markdown",
   "id": "6ef445cc-591e-4984-a795-904758b9ca58",
   "metadata": {},
   "source": [
    "\\begin{align}\n",
    "U_{S}(u ; G, s) = & & \\text{Utility of producing } u \\text{ given } s \\text{ for } S \\\\\n",
    "+ \\beta \\, & \\log \\left( p_{L}(s \\mid u) \\right) & \\text{Informativity} \\\\\n",
    "+ \\gamma \\, & G( u ; s )  & \\text{Goal-directed utility of } u \\text{ given } s \\text{ for } S \\\\\n",
    "- \\delta \\, & \\sum_{\\hat{G} \\in \\Gamma} \\left( P_{J}(\\hat{G} \\mid u, s) U_J(\\hat{G}, s) \\right) & \\text{Risk of } u \\text{ given } s \\text{ for } L_1 \\text{ (with judge $J$)} \\\\\n",
    "- \\, & C(u) & \\text{Utterance cost of } u\n",
    "\\end{align}"
   ]
  },
  {
   "cell_type": "markdown",
   "id": "b1c39d0f-f8b7-46ac-98f3-db13113d7b70",
   "metadata": {},
   "source": [
    "where \n",
    "- $G$: encodes something the speaker is trying to do through the utterance\n",
    "    - Not necessarily conveying something to the listener, though that's sometimes what the speaker is trying to do in cases of PD\n",
    "    - $G$ depends on the utterance, and it can (but needn't) also be a function of the state observed by the speaker \n",
    "- $\\Gamma$ is the set of possible intents that the speaker can have\n",
    "- $\\hat{G}$: speaker's goals as the the judge is trying to recover them\n",
    "- $P_{J}(\\hat{G} \\mid u, s)$: probability that the judge will _judge_ the speaker because (from the judge's perspective) the speaker has goals $\\hat{G}$.\n",
    "    - This is related but not (in general) the same as the probability (for the judge) of $G$ conditioned on $u,s$\n",
    "    - For instance, the judge might think it highly probable that I have $G$, but the context might require an even greater level of certainty.\n",
    "    - $P_{J}(G \\mid u, s)$ depends both on the probability that the judge gives to $G$ and stuff about which negations the speaker can get away with.\n",
    "    - While this might be discouraging from a modelling point of view, the idea will be that often $P_{J}(G \\mid u, s)$ is a _simple_ function of the probability (for the judge) of the speaker having $G$ conditioned on $u,s$\n",
    "    - _Which_ function depends on social norms (e.g. presumption of innocence)\n",
    "    - For instance, one possibility is that the speaker can always avoid punishment for a given $G$ if she can propose an alternative explanation $G'$ for her utterance that is at least as likely as the one based on $G$ \n",
    "        - She will then get the punishment for $G'$\n",
    "        - E.g. \"I wasn't being dishonest, I was just being stupid\" as a denial in a PD context: trying to get punished lighlty for stupidity rather than heavily for malice\n",
    "        - ALso related: \"Never attribute to malice what can adequately be explained by stupidity\"\n",
    "        - this rough guideline and related ones is why _passable deniability_ is often collapsed onto _plausible deniability_\n",
    "        - This criterion for successful denial (or a similar one anyway) is the one Camp discusses. \n",
    "            - I wonder if this can be given an evolutionary explanation.\n",
    "            - Hypothesis: in any linguistic system with a variety of possible goals, honest signals are often compatible with 'bad' aims. The criterion for accepting negations has to be pretty weak to avoid loads of false positives of evil-intent recognition.\n",
    "            - Maybe modelling work to do in this direction\n",
    "        - Also cf. Blackstone's ratio: \"We find, in the rules laid down by the greatest English Judges, who have been the brightest of mankind; We are to look upon it as more beneficial, that many guilty persons should escape unpunished, than one innocent person should suffer. The reason is, because it’s of more importance to community, that innocence should be protected, than it is, that guilt should be punished; for guilt and crimes are so frequent in the world, that all of them cannot be punished; and many times they happen in such a manner, that it is not of much consequence to the public, whether they are punished or not. But when innocence itself, is brought to the bar and condemned, especially to die, the subject will exclaim, it is immaterial to me, whether I behave well or ill; for virtue itself, is no security. And if such a sentiment as this, should take place in the mind of the subject, there would be an end to all security what so ever.\"\n",
    "    - There is philosophical literature on this, & also various options could be tested for what the criterion is\n",
    "        - Different criteria will make different predictions for what counts as PD\n",
    "        - Possible experiment?\n",
    "    - Note that this wrinkle (whether the speaker is punished _as a function_ of the distribution over $\\hat{G}$) cannot be moved into $U_J(G, s)$, because it might depend on the _other_ possible values of $G$, which $U_J$ doesn't have access to \n",
    "    - Still, the expectation over $G$s encodes the intuition that the judge is trying to figure out what the speaker is like.\n",
    "    - The fact of modelling punishment as an expected value over a distribution over intentions encodes an empirical assumption: that the judge always recognizes and punishes a _one specific_ conjectured intention (rather than e.g. mixtures of intentions). This is a modelling assumption that can be discussed later.\n",
    "- $U_J(G, s)$: numerally encodes the punishment if the judge finds that speaker has utility function $G$\n",
    "    - This can also be a function of the state that the judge takes the speaker to have believed\n",
    "    - The judgment-relevant features of the speaker are encoded in its aims $G$.\n",
    "    - The greater the punishment, the greater the $U_J(G, s)$.\n",
    "    - $U_J(G, s)$ just deals with how bad $G$ is (which might depend on the speaker's belief state, see e.g. misleading implicature below).\n",
    "    - The fact that $U_J$ doesn't have the true $G$ as an argument means that the punishment can only happen through recovery of $G$ based on (1) the utterance, (2) what the judge knows about the speaker, and (3) potentially, the speaker's belief state. This is a conceptually important point: the judge doesn't have direct access to the true intentions.\n",
    "- In some cases the judge and/or speaker don't have access to the true $s$, in which case the formula changes accordingly (see examples below)"
   ]
  },
  {
   "cell_type": "markdown",
   "id": "bbc73339-c7e5-4ef1-8161-18288650be6f",
   "metadata": {},
   "source": [
    "Comments on the model:\n",
    "- Essentially, what this model skeleton already captures is the fact that the speaker is trying to fulfill some intentions with the utterance, while the judge is attempting to recover the speaker's intentions from the utterance and judge the speaker for them.\n",
    "    - Even this might not be true of _all_ cases of PD. \n",
    "    - Let's say provisionally that this is a characteristic trait of _linguistic_ PD, and that we're just focusing on that. \n",
    "    - There might be future reasons for generalizing this.\n",
    "- What the model at this level of abstraction does _not_ capture is the relation between the listener and $G$\n",
    "    - E.g., $G$ is not necessarily inducing a belief in a listener\n",
    "    - This is intentionally left open for reasons that become clear from looking at the variety of models below.\n",
    "- $\\beta$ and $\\gamma$ might be better reparameterized some other way. \n",
    "    - E.g., $\\delta$ could be defined as $(1 -\\beta -\\gamma )$ \n",
    "    - E.g., by dividing into one variable that deals with the informativity part and one that deals with the total PD part, and then another variable that weights the components of the PD part.\n",
    "    - $\\delta$ is the theoretically interesting parameter here, because it encodes something like a combination (e.g., product) of the probability of actually being judged and the power that the judge has on the speaker.\n",
    "- There is an assumption that the $S$ is at a higher level of mindreading than the $L$\n",
    "    - But $L$ isn't necessarily $L_0$ and $S$ isn't necessarily $S_1$\n",
    "- There is a bit of a problem with the $\\beta$: if the utterance is literally false, we get $-\\infty \\times 0$, which is undefined. \n",
    "    - Let's assume by convention it's $-\\infty$, so that false utterances have infinite negative utility.\n",
    "    - ...since we're also assuming $\\log(0)$ is $-\\infty$ rather than undefined :)"
   ]
  },
  {
   "cell_type": "markdown",
   "id": "b75432fd-294e-40dc-9f77-4295faa9f455",
   "metadata": {},
   "source": [
    "There's two modelling tasks:\n",
    "- Capture as much as possible of the structure of $G$ and $U_J$ in the general case\n",
    "- Find the main types of $G$ and $U_J$ that come up in real cases of PD \n",
    "- Each study case of PD consists in filling in values for $G$, $P_J (G \\mid u, s)$, and $U_J(G, s)$ \n",
    "    - The fact that there isn't a unique structure might be prima facie worrying, because it might make any specific implementation feel like the the PD is handcrafted in. However, the variety is to be expected. PD is in general not a convention but rather a strategy, and depends on details of the situation. Even intuitively, it requires the listener to be aware of their specific social position in the conversation, different interpretations that different listener could give to her words, etc: an a-priori open space of possible situations where PD can be used. \n",
    "    - The point here is that there's a space of goals, a space of listeners, and a space of judges, and some of the combinations in this space can be strategically exploited by what we pre-theoretically call PD. \n",
    "    - The space is likely to not be as huge as one might first think. \n",
    "    - There's probably a few re-occurring combinations that cover most cases of PD, plus some rarely occurring highly contextually specific combinations that require creativity in the speaker to be exploited.\n",
    "    - MUCH MORE TO SAY HERE"
   ]
  },
  {
   "cell_type": "markdown",
   "id": "d8d81cdb-6e48-4790-8a95-72e2bfb28c6e",
   "metadata": {},
   "source": [
    "# Special case: when $\\beta$ goes to 0"
   ]
  },
  {
   "cell_type": "markdown",
   "id": "053d1972-eb3f-46e4-9304-60368c215247",
   "metadata": {
    "tags": []
   },
   "source": [
    "## Model description"
   ]
  },
  {
   "cell_type": "markdown",
   "id": "e7d5b419-6d98-44d4-a744-5b144bb10496",
   "metadata": {},
   "source": [
    "- Now we're entering territory that is quite different from the usual Gricean story.\n",
    "- What happens in this case is that informativeness / truth don't enter into the calculations of the PD speaker \n",
    "    - Typically, this is because truth is not recoverable by the listener\n",
    "- Examples:\n",
    "    - Expressing personal taste \n",
    "    - False compliments/insults\n",
    "- This kind of unestablishable utterances can still be used for strategic purposes (there is a $G$ to do work with) that can be socially punishable (there is a punishing judge to shield against in uttering), so we can use something like the model above.\n",
    "- The world state in these cases only affects the model through $G$, and so we can get rid of it when writing down the model below. This is reflected in the fact that we can write $U_{S}(u)$: The utility doesn't depend on the true state anymore.\n",
    "- The only change is the removal of the informativeness component and of $s$:\n",
    "\n",
    "\\begin{align}\n",
    "U_{S}(u; G) = & \\\\\n",
    "\\gamma \\, & G( u) \\\\\n",
    "- \\delta \\, & \\sum_{\\hat{G} \\in \\Gamma} \\left( P_{J}(\\hat{G} \\mid u) U_J(\\hat{G}) \\right) \\\\\n",
    "- \\, & C(u)\n",
    "\\end{align}\n",
    "\n",
    "- Note that this doesn't mean that informativeness in the sense of size of the meaning of the signal doesn't play a role!\n",
    "    - It can play a role in the sense that more specific signals might be preferred by the PD speaker because they make them look more like a speaker who cares about the truth from the judge's point of view!\n",
    "    - But that's going to be part of the judge's model of the way the speaker produces utterances, rather than the speaker themselves\n",
    "    - This makes interesting empirical predictions I think\n",
    "- (TOTHINK: I wonder if there is an evolutionary model of expressives here in terms of the intent-to-offend)"
   ]
  },
  {
   "cell_type": "markdown",
   "id": "efa3f773-2e48-4fec-8e75-9c8b4b9c2f5a",
   "metadata": {
    "tags": []
   },
   "source": [
    "## Example: Covert bribery"
   ]
  },
  {
   "cell_type": "markdown",
   "id": "3afaf711-f334-4620-ad12-cbab00ac55f5",
   "metadata": {
    "tags": []
   },
   "source": [
    "### States, utterances"
   ]
  },
  {
   "cell_type": "markdown",
   "id": "ec1d0ed1-4bbc-453a-a194-5b2d2319a6c3",
   "metadata": {},
   "source": [
    "- Classic Pinker case: police officer stops me for speeding\n",
    "- I can say several things:\n",
    "    - $u_1$: \"I will give you 50E if you let me go without a fine\"\n",
    "        - Explicit attempt at bribery\n",
    "    - $u_2$: \"I wonder if there is some way we could take care of this here\"\n",
    "        - PD attempt at bribery\n",
    "    - $u_3$: \"Thank you officer, I will pay the fine\"\n",
    "        - Not attempt bribery\n",
    "        \n",
    "- The states are (roughly, though might need to be more careful with exact phrasing):\n",
    "    - $s_1$: The driver is attempting a bribe\n",
    "    - $s_2$: The driver wants more information about paying the fine on the spot\n",
    "    - $s_3$: The driver knows the fine cannot be paid on the spot and will pay the fine as usual.\n",
    "- These are states in a certain sense, but as we see below they play a different role from states in usual RSA models\n",
    "- State-utterance compatibility matrix:\n",
    "\n",
    "|         | $$s_1$$ | $$s_2$$ | $$s_3$$ |\n",
    "| --- | --- | --- | --- |\n",
    "| $$u_1$$ |    1    |    0    |     0   |\n",
    "| $$u_2$$ |    1    |    1    |     0   |\n",
    "| $$u_3$$ |    0    |    0    |     1   |"
   ]
  },
  {
   "cell_type": "markdown",
   "id": "106337f7-2200-4a3c-a402-d0c0e6d60767",
   "metadata": {},
   "source": [
    "- The standard pragmatic story, which sees the utterance as _describing_ an inner state, would predict that $u_2$ implicates NOT $u_1$. \n",
    "    - This is going to turn out to be quite important below!\n",
    "    - Nonetheless, this is in fact quite the opposite, and PD explains why."
   ]
  },
  {
   "cell_type": "markdown",
   "id": "d5b80ccb-6c7c-46f2-9f87-5051f24352be",
   "metadata": {
    "tags": []
   },
   "source": [
    "### Speaker's goal"
   ]
  },
  {
   "cell_type": "markdown",
   "id": "50f0f435-863d-43f7-a88c-b7f5012c165e",
   "metadata": {},
   "source": [
    "- The three possible $G$s consist in the driver wanting the officer to recognize the three states.\n",
    "    - Let's call them $G_1$, $G_2$, and $G_3$ for the three corresponding states.\n",
    "- Let's say the speaker wants to convey to the officer that she is open to bribing the officer ($G_1$ is true)\n",
    "- Note that $G_2$ is in a sense terribly implausible and a somewhat arbitrary goal. \n",
    "    - But this is unavoidable: the speaker is _constructing an excuse_. \n",
    "    - This is not something that can be encoded a priori in a computational model because it depends on the details of a situation. \n",
    "    - There might be more to say about this at a later stage though when the account becomes more sophisticated.\n",
    "- Also note that $G_1$ and $G_2$ are not complements in a logical space: they are substantially unrelated aims. This is probably the norm in cases of PD, because the same behaviour can be explained under substially different aims.\n",
    "- $G_1$ can be formalized as a function maximizing the officer's subjective probability that the driver is offering a bribe given the utterance:\n",
    "\n",
    "$$\n",
    "G_1(u ) = \\log P_{L_D} ( s_1 ) \n",
    "$$\n",
    "\n",
    "- And similarly for the other $G$s"
   ]
  },
  {
   "cell_type": "markdown",
   "id": "ab963a61-8182-428d-abb4-5c73d61eda11",
   "metadata": {
    "tags": []
   },
   "source": [
    "### The punishment function"
   ]
  },
  {
   "cell_type": "markdown",
   "id": "363304eb-6cc8-47c6-a3b5-152a447cb60f",
   "metadata": {},
   "source": [
    "- This is pretty simple: the driver gets punished by 1 for $G_1$ and gets punished by 0 for $G_2$ and $G_3$."
   ]
  },
  {
   "cell_type": "markdown",
   "id": "007663ca-397d-4a9c-9ca0-bbdb03fb177c",
   "metadata": {
    "tags": []
   },
   "source": [
    "### The probability of being judged"
   ]
  },
  {
   "cell_type": "markdown",
   "id": "ac6e099f-7937-47eb-b0f6-2db7b864e39f",
   "metadata": {},
   "source": [
    "- Note: in this example the listener and judge do not have access to the true state, and so we don't condition on state below.\n",
    "- Call $\\text{MAPG}$ the set of most likely $G$s given an utterance: \n",
    "\n",
    "$$\n",
    "\\text{MAPG} = \\underset{G \\in \\Gamma}{\\arg\\!\\max} P_{L_J}( G \\mid u )\n",
    "$$\n",
    "\n",
    "- $L_J$ is the judge-listener\n",
    "- Using the criterion for the acceptability of a negation discussed above, the probability of getting judged for a certain $\\hat{G}$ can be modelled as (assuming argmax is a set-valued function as usually defined):\n",
    "\n",
    "$$\n",
    "P_{J}(\\hat{G} \\mid u) \\propto \n",
    "\\begin{cases}\n",
    "1 & \\text{if } \\hat{G} \\in \\text{MAPG} \\land U_j(\\hat{G}) = \\min \\{ U_j(g) \\mid g \\in \\text{MAPG} \\} \\\\\n",
    "0 & \\text{else}\n",
    "\\end{cases}\n",
    "$$\n",
    "\n",
    "- Applying Bayes:\n",
    "\n",
    "$$\n",
    "\\text{MAPG} = \\underset{G \\in \\Gamma}{\\arg\\!\\max} P_{S_J}( u \\mid G) P_{L_J}( G ) \n",
    "$$\n",
    "\n",
    "- $S_J$ is the speaker as imagined by the judge\n",
    "- In sum: the probability of punishment is proportional to 1 iff (1) $\\hat{G}$ is in the set of most likely $G$s, and (2) the $\\hat{G}$ has the minimum punishment among the most likely $G$s, and 0 otherwise\n",
    "    - In an implementation, this is going to be _soft_\n",
    "    - Hard here for simplicity of exposition.\n",
    "    - To reiterate: this is NOT the punishment, but rather the probability of getting judged. It just so happens that in this case the probability of getting judged for an intention depends on the punishment for the intention.\n",
    "- It follows that the expected punishment is just the miniargmax punishment given the utterance:\n",
    "\n",
    "$$\n",
    "\\sum_{\\hat{G}} P_{J}(\\hat{G} \\mid u) \\, U_J(\\hat{G}) = \\min \\text{map}\\left( \\lambda g: U_j(g), \\arg\\!\\max_{G} P_{S_J}( u \\mid G ) P_{L_J}( G ) \\right)\n",
    "$$\n",
    "\n",
    "- Which, as expected, is 1 iff all the most likely $G$s are of the misleading type, 0 otherwise\n",
    "- Note that we have lost the connection between the expected punishment and the $\\hat{G}$! This makes sense: the negation-acceptability rule means that expected punishment depends on the utterance and the true state deterministically\n",
    "- The inferential bit of the judge is doing Bayesian inference of the speaker's goals given the utterance and the true state \n",
    "- Assuming that the judge has a uniform prior over intentions (this is perhaps socially codified):\n",
    "\n",
    "$$\n",
    "P_{L_J}( G ) = |S|^{-1}\n",
    "$$\n",
    "\n",
    "- And since $|S|$ doesn't depend on the $G$ and therefore doesn't influence the max, the equation above becomes:\n",
    "\n",
    "$$\n",
    "\\sum_{\\hat{G}} P_{J}(\\hat{G} \\mid u) U_J(\\hat{G}) = \\min \\text{map}\\left( \\lambda g: U_j(g), \\arg\\!\\max_{G} P_{S_J}( u \\mid G ) \\right)\n",
    "$$\n",
    "\n",
    "- I.e., the drivers get the punishment of the least grave among the offenses that are most likely to have been intended by the utterance.\n",
    "- Miniargmax is the same as a MAP Bayesian judge with a conservative prior (wrt to punishment)\n",
    "    - This suggests another way of generalizing this via a continuous 'conservative prior' parameter which scales the prior over non-punished intentions over the punished ones."
   ]
  },
  {
   "cell_type": "markdown",
   "id": "a284c028-9424-4319-95c1-9864aaaf7c55",
   "metadata": {
    "tags": []
   },
   "source": [
    "### The production model assumed by the judge"
   ]
  },
  {
   "cell_type": "markdown",
   "id": "b8419f9a-650a-4676-8c4f-8f66669f4462",
   "metadata": {},
   "source": [
    "- The last unanalysed component is the judge's model of the speaker's production behaviour given a goal $G$. \n",
    "- There's various ways of modelling it, but the most natural in this case (seems to me) is as a speaker who is not trying to be plausibly deniable, but rather just uttering signals that describe the intention (in other words, the judge assumes a non-goal-oriented speaker who is just describing inner state, or alternatively but equivalently a goal-oriented but literal speaker):\n",
    "\n",
    "$$\n",
    "P_{S_J}( u \\mid G_\\sigma) = \\text{softmax}\\! \\left( \\alpha U_{S_J}(u) \\right)\n",
    "$$\n",
    "\n",
    "- Where the utility is as you'd expect:\n",
    "\n",
    "\\begin{align}\n",
    "U_{S_J}(u ; G_\\sigma) = \\log \\left( p_{L_0}(\\sigma \\mid u) \\right) - C(u)\n",
    "\\end{align}\n",
    "\n",
    "- Let's assume the utterance cost is the same and can be ignored in the softmax\n",
    "- In this situation, what gives the PD $S$ an edge and allows her to deploy PD is that she thinks the judge will not assume that she is selecting an utterance in order to avoid being judged.\n",
    "- This is a simple Gricean model of the situation described above, and therefore $u_1$ implicates that $s_1$ is false. \n",
    "    - This corresponds to the driver's defense \"If I had wanted to bribe I would have offered a bribe!\""
   ]
  },
  {
   "cell_type": "markdown",
   "id": "91b3237a-0a72-4d19-980b-f00a265502ae",
   "metadata": {},
   "source": [
    "And finally we get the full judge component (the third component of the utility above):\n",
    "\n",
    "$$\n",
    "\\min \\text{map}\\left( \\lambda g: U_j(g), \\arg\\!\\max_{G_\\sigma} \\text{softmax} \\, \\alpha \\log \\left( p_{L_0}( \\sigma \\mid u) \\right) \\right)\n",
    "$$"
   ]
  },
  {
   "cell_type": "markdown",
   "id": "a19792a7-e901-4ebe-b675-4236b9e9be59",
   "metadata": {
    "tags": []
   },
   "source": [
    "### Implementation"
   ]
  },
  {
   "cell_type": "markdown",
   "id": "8e05cc9a-94b4-4f9c-bb36-30eca38183b0",
   "metadata": {},
   "source": [
    "Note: When I say $\\sigma$, I mean the index of $G_\\sigma$ which ranges between 1 and 3."
   ]
  },
  {
   "cell_type": "markdown",
   "id": "3d841a47-6a70-4195-8a95-85918842e6d5",
   "metadata": {},
   "source": [
    "Let's start by defining some functions:"
   ]
  },
  {
   "cell_type": "code",
   "execution_count": 40,
   "id": "0ca6e601-1dfa-4db7-a95b-34f9e7d13331",
   "metadata": {},
   "outputs": [],
   "source": [
    "def calculate_S_J(L0, alpha, costs):\n",
    "    return softmax(\n",
    "        calculate_informativity(L0),\n",
    "        alpha,\n",
    "        # normalize across utterances\n",
    "        axis=-2\n",
    "    )\n",
    "\n",
    "\n",
    "def calculate_punishment(L0, alpha, costs, speaker_f=calculate_S_J):\n",
    "    \"\"\"\n",
    "    This function returns for each speaker belief the punishment for each strategy\n",
    "    Returns array with shape (state, state, utterance, state), i.e. (speaker's belief, sigma, utterance, speaker's belief)\n",
    "    \"\"\"\n",
    "    \n",
    "    # Dimensions: (utterance, state)\n",
    "    S1_J = speaker_f(\n",
    "        L0, \n",
    "        alpha, \n",
    "        costs\n",
    "    )\n",
    "        \n",
    "    # Most likely sigma for each utterance\n",
    "    # (argmax_G )\n",
    "    most_likely = np.argmax(S1_J, axis=1)\n",
    "    \n",
    "    # For each utterance, get the punishment\n",
    "    return (most_likely == 0).astype(int)"
   ]
  },
  {
   "cell_type": "markdown",
   "id": "0e67a5dc-9b29-44d7-8fb8-f876eb6d9b5c",
   "metadata": {},
   "source": [
    "Let's define the interpretation array and various other values:"
   ]
  },
  {
   "cell_type": "code",
   "execution_count": 41,
   "id": "bb18d575-c2b9-4d6e-88f5-fe3c6a93740d",
   "metadata": {
    "tags": []
   },
   "outputs": [],
   "source": [
    "# Dims: (utterance, observation)\n",
    "utterances_states_compatibility = np.array([\n",
    "    [1, 0, 0],\n",
    "    [1, 1, 0],\n",
    "    [0, 0, 1]\n",
    "])\n",
    "\n",
    "costs = np.array([1,1,1])\n",
    "alpha = 3\n",
    "L0 = calculate_L0(utterances_states_compatibility)"
   ]
  },
  {
   "cell_type": "markdown",
   "id": "fca1f6ed-afeb-486f-830a-665db174eb55",
   "metadata": {},
   "source": [
    "Although both $u_1$ and $u_2$ are compatible with $s_1$, $u_2$ does not get punished because there is an at least equally (and in fact more) likely alternative explanation for the utterance with a lower punishment: "
   ]
  },
  {
   "cell_type": "code",
   "execution_count": 42,
   "id": "747ea7cf-9e45-4014-b64f-6afa25b24f50",
   "metadata": {},
   "outputs": [
    {
     "name": "stderr",
     "output_type": "stream",
     "text": [
      "/tmp/ipykernel_1341/2584251663.py:15: RuntimeWarning: divide by zero encountered in log\n",
      "  return np.log(L0)\n"
     ]
    },
    {
     "data": {
      "text/plain": [
       "array([1, 0, 0])"
      ]
     },
     "execution_count": 42,
     "metadata": {},
     "output_type": "execute_result"
    }
   ],
   "source": [
    "punishment = calculate_punishment(\n",
    "    L0,\n",
    "    alpha, \n",
    "    costs\n",
    ")\n",
    "punishment"
   ]
  },
  {
   "cell_type": "markdown",
   "id": "1e24420f-8a68-45de-9088-146d683d5523",
   "metadata": {},
   "source": [
    "Let's calculate the plausibly deniable speaker."
   ]
  },
  {
   "cell_type": "code",
   "execution_count": 45,
   "id": "eb910c4f-a024-49fb-beba-ee8904d7c87d",
   "metadata": {},
   "outputs": [
    {
     "name": "stderr",
     "output_type": "stream",
     "text": [
      "/tmp/ipykernel_1341/2584251663.py:15: RuntimeWarning: divide by zero encountered in log\n",
      "  return np.log(L0)\n"
     ]
    }
   ],
   "source": [
    "# Dimensions (utterance, intention/state)\n",
    "S_PD = softmax(\n",
    "    (\n",
    "        calculate_informativity(L0)\n",
    "        # note that punishment is for *utterances*, \n",
    "        # not for states\n",
    "        - punishment.reshape(-1,1)\n",
    "    ),\n",
    "    alpha,\n",
    "    0\n",
    ")"
   ]
  },
  {
   "cell_type": "markdown",
   "id": "4e9f46a7-30d0-484d-a13a-e3399b90368f",
   "metadata": {},
   "source": [
    "Note that we have here the first (simple) result. The pragmatic PD speaker tends to produce $u_2$ even though there's a less ambiguous utterance, to avoid punishment (First column in plot):"
   ]
  },
  {
   "cell_type": "code",
   "execution_count": 52,
   "id": "ccde876a-ed3e-4dee-9d57-1c121b98c9ac",
   "metadata": {},
   "outputs": [
    {
     "data": {
      "image/png": "[encoded data removed]",
      "text/plain": [
       "<Figure size 432x288 with 2 Axes>"
      ]
     },
     "metadata": {
      "needs_background": "light"
     },
     "output_type": "display_data"
    }
   ],
   "source": [
    "plt.imshow(S_PD)\n",
    "plt.xticks(ticks=[0,1,2], labels=['Bribe', 'Naive', 'Usual'])\n",
    "plt.yticks(ticks=[0,1,2], labels=['How about a bribe!', 'I wonder if...', 'Alright, sorry!'])\n",
    "plt.colorbar()\n",
    "plt.show()"
   ]
  },
  {
   "cell_type": "markdown",
   "id": "2643ba28-ab67-4ad4-807b-62175a890cbe",
   "metadata": {},
   "source": [
    "There is an apparent difficulty with modelling the officer: \n",
    "- Consider the listener thinking about a PD listener (in this case, the officer)\n",
    "- Unless we assume that the listener has a prior for the speaker being a briber ($S_1$) over being naive ($S_2$), there probability of $s_1 \\mid u_2$ cannot exceed $s_1 \\mid u_1$ (though they can be almost equal at 0.5).\n",
    "- Is this a problem? That's unclear.\n",
    "- In a way, this seems right: If being naive was as common as attempting bribery, pretending to be naive wouldn't work as a PD strategy.\n",
    "- Maybe the point here is: even a _slightly_ higher prior for the guilty $G$ can be exploited by the speaker"
   ]
  },
  {
   "cell_type": "code",
   "execution_count": 54,
   "id": "00372de8-627b-4726-a5b2-ece3350c9dfb",
   "metadata": {},
   "outputs": [
    {
     "data": {
      "image/png": "[encoded data removed]",
      "text/plain": [
       "<Figure size 432x288 with 2 Axes>"
      ]
     },
     "metadata": {
      "needs_background": "light"
     },
     "output_type": "display_data"
    }
   ],
   "source": [
    "L_PD = normalize(S_PD, 1)\n",
    "\n",
    "plt.imshow(L_PD)\n",
    "plt.xticks(ticks=[0,1,2], labels=['Bribe', 'Naive', 'Usual'])\n",
    "plt.yticks(ticks=[0,1,2], labels=['How about a bribe!', 'I wonder if...', 'Alright, sorry!'])\n",
    "plt.colorbar()\n",
    "plt.show()"
   ]
  },
  {
   "cell_type": "markdown",
   "id": "ae758f54-75ef-4bb9-b052-1ea2099c527a",
   "metadata": {},
   "source": [
    "Some concluding remarks on this example:\n",
    "- This is the simplest case of PD: \n",
    "    - It doesn't involve deception (the speaker is trying to get the listener to recognize the true state)\n",
    "    - There are just a few, clear options\n",
    "    - There is a one-to-one correspondence between intentions and possible states\n",
    "    - Much of the structure is hand-coded rather than structurally emerging from the model\n",
    "- Nonetheless, it shows some of the fundamental patterns of PD\n",
    "    - It's an 'anti-implicature': the more general term is chosen over the more specific one\n",
    "    - Speakers tend to use an utterance to avoid punishment\n",
    "- The PD speaker can be, from the point of view of PD strategy, a 'level 1' speaker: the objective $G$ doesn't need to include the interpretation of a listener who knows about punishment or a substantial prior over states"
   ]
  },
  {
   "cell_type": "markdown",
   "id": "37775664-0a9d-4ee2-ac8f-0ba7ba1725f9",
   "metadata": {
    "tags": []
   },
   "source": [
    "## Example: PD w/ degrees and sub-attention, Perfume case"
   ]
  },
  {
   "cell_type": "markdown",
   "id": "59122d4d-90aa-4a9c-8f0b-b574a8e3ae26",
   "metadata": {
    "tags": []
   },
   "source": [
    "### Setup"
   ]
  },
  {
   "cell_type": "markdown",
   "id": "aa81c952-2d6e-4688-96e0-7828ce3574e7",
   "metadata": {},
   "source": [
    "(This cell contains text by Michael Franke)\n",
    "\n",
    "Situation:\n",
    "- Kiki wants to be liked by Bubu (romantically). \n",
    "- Kiki knows that Bubu likes a particular scent. So Kiki puts on that special perfume. \n",
    "- But how much of it? Just the right (goldilocks) amount that:\n",
    "    - Triggers a positive feeling in Bubu \n",
    "    - Does not make Bubu realize that Kiki wears the perfume for that reason, since that might not please Bubu.\n",
    "- (Kiki does not want Bubu to recognize the intention, but just to like the perfume)\n",
    "- Objection: this is not about being able to deny the true intention. \n",
    "    - Okay, but it is about veiling the intention in the first place, so as not to have to deny it. \n",
    "    - And then, the less obvious the intention, the easier to deny.\n",
    "\n",
    "Modelling\n",
    "- Kiki chooses a non-negative amount of perfume $p$\n",
    "- There are three thresholds of interest:\n",
    "  1. effect $\\theta_{e}$: if $p > \\theta_{e}$ Bubu senses the perfume and feels attracted\n",
    "  2. perception of perfume: if $p \\theta_{p}$ Bubu is conscious of the perfume\n",
    "  3. realization of intent: $\\theta_{i}$: if $p > \\theta_{i}$ Bubu becomes convinced that Kiki wants to impress\n",
    "- Kiki doesn't know where exactly these thresholds lie, but she has a (joint) prior belief about their distribution\n",
    "- Kiki has payoffs related the possible outcomes:\n",
    "  1. no-effect: Bubu does not perceive the perfume and is therefore unaffected by it\n",
    "  2. effect-subconcious: Bubu is affected by the perfume (but doesn't know it)\n",
    "  3. effect-conscious: Bubu is affected by the perfume and realizes it\n",
    "  4. detection: Bubu perceives the perfume and comes to believe that Kiki wants to seduce, which is a turn-off\n",
    "- preference order over outcomes (for Kiki): 2 > 3 >> 1 >> 4\n",
    "- Kiki's optimal choice of perfume is to stay in the likely range of \"effect-subconscious\"\n",
    "- there is veiled intention here\n",
    "- is there also PD?\n",
    "  + if Kiki is challenged (by Bubu or another actor) that her degree of perfume choice $p^{*$}$ was a sexualized act, she can PD to the extent that \n",
    "      - $p^{*$}$ is a rational choice for an actor without sexual intentions (with different beliefs, preferences and awareness state) \n",
    "      - the mental life of this alternative actor is one that Kiki could plausibly have had (including normative considerations about what Kiki may not have been but clearly should have been aware of)"
   ]
  },
  {
   "cell_type": "markdown",
   "id": "4164a89d-96f6-4435-bae8-6377203f44b3",
   "metadata": {
    "tags": []
   },
   "source": [
    "### Modelling"
   ]
  },
  {
   "cell_type": "markdown",
   "id": "62e1c1a0-5a39-4565-8d29-36c3d482b396",
   "metadata": {},
   "source": [
    "- Set of 'states'\n",
    "    - It's one dimension: how attracted Bubu is feeling to Kiki (assuming there's a minimum and maximum)\n",
    "    - [0,1] interval\n",
    "    - They appear in the $G$ but not in an informativeness measure, as described above\n",
    "- Set of actions ('non-linguistic utterances') \n",
    "    - The amount of perfume that Kiki uses\n",
    "    - Let's say it's the [0,1] interval\n",
    "    - 0 being no perfume at all, 1 being the point where perfume is completely perceivable without doubts\n",
    "    - This can be interpreted kind of 'semantically' in the sense that it excludes worlds: each level of perfume (utterance) is compatible with some levels of attraction (state), though it's presumably a fuzzy semantics. \n",
    "        - It's got a word-to-world direction of fit but that's fine from a modelling point of view. \n",
    "        - It just means that instead of observing the world state and describing it, the agent chooses one.\n",
    "    - Let's say that the two are related linearly: amount of perfume $x \\in [0,1]$ induces level of attraction x\n",
    "- Set of intentions of Kiki\n",
    "    - $G_1$: make Bubu attracted \n",
    "    - $G_2$: not make Bubu attracted (wide scope negation)\n",
    "- Probability of being judged\n",
    "    - Let's use the same function as in the bribery case above\n",
    "    - The probability of being punished as an agent having a certain intention is proportional to 1 for all intentions with the minimal punishment among the most likely intentions given the utterance, and proportional to 0 for all other intentions (i.e. non-minimal punishment or not most likely (inclusive or))\n",
    "        - Basically, this means that there is a level of perfume where Bubu will go \"Wait a moment, are you trying something here Kiki?\", and any level of perfume up to that point (but excluding that point) has increasing utility\n",
    "    - The probability of Kiki having each intention (from Bubu's perspective) given a certain level of perfume depends on:\n",
    "        - Bubu's subjective probability that Kiki is wearing perfume (which is subconscious below a certain level)\n",
    "        - Bubu's subjective probability of Kiki having the intention given the amount of perfume Bubu perceives on Kiki.\n",
    "        - Let's simplify these two things into a single function that increases first slowly and then rapidly\n",
    "- Punishment\n",
    "    - $G_1$ is punished (let's say, by amount 1)\n",
    "    - $G_2$ is not punished\n",
    "    - Interestingly, this is not a realistic description of the situation in general, but it is often how people perceive these situation (\"I can't be found out!\")\n",
    "- NOTE: There's more structure to model in this and similar situations, and we can return to it below with the more sophisticated models. This is an initial rough version."
   ]
  },
  {
   "cell_type": "markdown",
   "id": "bbf71333-818b-41f2-9374-635509747f5e",
   "metadata": {
    "jp-MarkdownHeadingCollapsed": true,
    "tags": []
   },
   "source": [
    "### Implementation"
   ]
  },
  {
   "cell_type": "code",
   "execution_count": 6,
   "id": "33051934-6249-42dd-a581-f7870053f356",
   "metadata": {},
   "outputs": [],
   "source": [
    "from scipy import stats\n",
    "import matplotlib.pyplot as plt\n",
    "from scipy.integrate import quad"
   ]
  },
  {
   "cell_type": "code",
   "execution_count": 7,
   "id": "6bae31c1-5e3c-4fce-8de7-4c1dfe68281c",
   "metadata": {},
   "outputs": [],
   "source": [
    "plt.rcParams.update({\n",
    "    \"text.usetex\": True,\n",
    "    # \"font.family\": \"Helvetica\"\n",
    "})"
   ]
  },
  {
   "cell_type": "code",
   "execution_count": 14,
   "id": "49f4b10d-d9e3-4e84-91b7-ef57f8ddf589",
   "metadata": {},
   "outputs": [],
   "source": [
    "attraction = stats.beta(a=2, b=2).cdf\n",
    "P_G1_given_perfume = stats.beta(a=5, b=2).cdf\n",
    "punishment = lambda x: P_G1_given_perfume(x) > 0.5 "
   ]
  },
  {
   "cell_type": "code",
   "execution_count": 15,
   "id": "db1701f1-74d4-41aa-8ad8-e8baf866e400",
   "metadata": {},
   "outputs": [
    {
     "data": {
      "image/png": "[encoded data removed]",
      "text/plain": [
       "<Figure size 432x288 with 1 Axes>"
      ]
     },
     "metadata": {
      "needs_background": "light"
     },
     "output_type": "display_data"
    }
   ],
   "source": [
    "xs = np.linspace(0, 1, 100)[1:]\n",
    "ys_P = P_G1_given_perfume(xs)\n",
    "ys_attraction = attraction(xs)\n",
    "ys_punishment = punishment(xs)\n",
    "plt.plot(xs, ys_P, label=r'$P_{\\textrm{Bubu}} (G_1 \\mid x)$')\n",
    "plt.plot(xs, ys_attraction, label='Attraction')\n",
    "plt.plot(xs, ys_punishment, label='Punishment')\n",
    "plt.xlabel(r'Amount of perfume $x$')\n",
    "plt.legend()\n",
    "plt.show()"
   ]
  },
  {
   "cell_type": "code",
   "execution_count": 16,
   "id": "bcd30848-b6c8-48f6-ab18-bbe87fa7d473",
   "metadata": {},
   "outputs": [],
   "source": [
    "utility = lambda x: (\n",
    "    # how attracted Bubu feels to Kiki\n",
    "    attraction(x) \n",
    "    # how much punishment Kiki receives for that amount of perfume\n",
    "    - punishment(x)\n",
    ")"
   ]
  },
  {
   "cell_type": "code",
   "execution_count": 31,
   "id": "8dd6c920-bfea-44b7-a01b-c9d5cf82fa13",
   "metadata": {},
   "outputs": [],
   "source": [
    "alpha = 4\n",
    "unnorm_p_perfume = lambda x: np.exp(alpha*utility(x))\n",
    "utility_norm = quad(unnorm_p_perfume, a=0, b=1)[0]\n",
    "\n",
    "p_perfume = lambda x: unnorm_p_perfume(x) / utility_norm"
   ]
  },
  {
   "cell_type": "code",
   "execution_count": 32,
   "id": "a2fc2791-962e-4f05-92c9-6b11504e0b9c",
   "metadata": {},
   "outputs": [
    {
     "data": {
      "image/png": "[encoded data removed]",
      "text/plain": [
       "<Figure size 432x288 with 2 Axes>"
      ]
     },
     "metadata": {
      "needs_background": "light"
     },
     "output_type": "display_data"
    }
   ],
   "source": [
    "fig, (ax1, ax2) = plt.subplots(1,2)\n",
    "\n",
    "xs = np.linspace(0, 1, 100)[1:]\n",
    "\n",
    "ax1.plot(xs, utility(xs))\n",
    "ax1.set_ylabel(r'Utility of $x$')\n",
    "\n",
    "ax2.plot(xs, p_perfume(xs))\n",
    "ax2.set_ylabel(r'Prob of choosing $x$')\n",
    "\n",
    "[ax.set_xlabel(r'Amount of perfume $x$') for ax in [ax1, ax2]]\n",
    "\n",
    "plt.tight_layout()\n",
    "plt.show()"
   ]
  },
  {
   "cell_type": "markdown",
   "id": "1a18025b-b189-4308-8214-3c085377cbbc",
   "metadata": {},
   "source": [
    "## Example: Strategic flattery"
   ]
  },
  {
   "cell_type": "markdown",
   "id": "48a8d521-ffaa-4207-b70a-33455e021b8f",
   "metadata": {},
   "source": [
    "(Note: This cell contains text by Michael Franke)\n",
    "\n",
    "- Kiki wants to ask Bubu for a favor. \n",
    "- So Kiki says many nice things to Bubu and is really polite and friendly. \n",
    "- But how much courtesy is too much? The point where the intention of Kiki to prepare Bubu for asking a favor becomes apparent."
   ]
  },
  {
   "cell_type": "markdown",
   "id": "c57cfe8e-af78-4f38-864f-bea572081dd4",
   "metadata": {},
   "source": [
    "- I think it's easier to model intensity of compliments rather than number of them.\n",
    "- Utterances:\n",
    "    - Your risotto was good\n",
    "    - Your risotto was extraordinary\n",
    "- 'States':\n",
    "    - [0,1] interval\n",
    "- TODO"
   ]
  },
  {
   "cell_type": "markdown",
   "id": "6f9925af-cd8a-4af4-9b6e-09e5daad7dc8",
   "metadata": {
    "jp-MarkdownHeadingCollapsed": true,
    "tags": []
   },
   "source": [
    "# Refinement 2: Speaker error"
   ]
  },
  {
   "cell_type": "markdown",
   "id": "3ff811f5-85ba-4f37-b74d-f27d613b4e19",
   "metadata": {},
   "source": [
    "Let's add the possibility for the judge that the denying speaker might not have correctly recognized the true state.\n",
    "\n",
    "\\begin{align}\n",
    "U_{S}(u ; s) = & & \\text{Utility of } s \\text{ given } u \\text{ for } S \\\\\n",
    "+ \\beta \\, & \\log \\left( p_{L}(s \\mid u) \\right) & \\text{Informativity} \\\\\n",
    "+ \\gamma \\, & G( u ; s )  & \\text{Utility of } u \\text{ given } s \\text{ for } S \\\\\n",
    "- \\delta \\, & \\sum_{i \\in \\Sigma} \\left( P_J(S \\text{ believes } i \\mid s) \\sum_{\\hat{G}} \\left( P_{J}(\\hat{G} \\mid u, i) U_J(\\hat{G}, i) \\right) \\right) & \\text{Risk of } u \\text{ given } s \\text{ for } L_1 \\text{ (with judge $J$)} \\\\\n",
    "- \\, & C(u) & \\text{Utterance cost of } u\n",
    "\\end{align}\n",
    "\n",
    "- $P_J(S \\text{ believes } i \\mid s)$: \n",
    "    - The probability (according to the judge as imagined by the speaker) that the speaker believes $i$, given that the true state is $s$.\n",
    "    - If the speaker thinks that the judge thinks that the speaker is not informed, the speaker can use this to their advantage, because then the utterance might not suggest a non-cooperative strategy anymore.\n",
    "    - This will show up again with PD and heding or modals\n",
    "- $\\Sigma$ (used below) is the set of states"
   ]
  },
  {
   "cell_type": "markdown",
   "id": "5965b39f-2e57-4d30-9aa7-a9c16ffa976f",
   "metadata": {
    "jp-MarkdownHeadingCollapsed": true,
    "tags": []
   },
   "source": [
    "# Refinement 3: Speaker ignorance"
   ]
  },
  {
   "cell_type": "markdown",
   "id": "8996c8c9-22b0-4eb3-88d6-f76ccdd75d8d",
   "metadata": {
    "jp-MarkdownHeadingCollapsed": true,
    "tags": []
   },
   "source": [
    "## Model description"
   ]
  },
  {
   "cell_type": "markdown",
   "id": "7b0ffec2-52b4-472a-80d9-1e3edf02ccc5",
   "metadata": {},
   "source": [
    "In this, the speaker assumes a judge who is not sure about the speaker's knowledge state. In such cases the speaker can PD by claiming ignorance. In other words, the PD speaker can propose an alternative story where they didn't know the way things really were.\n",
    "\n",
    "- Whether the speaker can get away with doing this is an empirical question!\n",
    "- In general, the speaker needs to assess whether an alternative speaker is acceptable or not.\n",
    "- In this case it's going to depend on the judge's assessment of the possibility that the speaker \n",
    "- We can model this case exactly as the basic case above, but instead of punishing by the minimum punishment amongst the ones given for the most likely _intentions_, the judge punishes by the minimum punishment amongst the most likely intention given every possible knowledge state\n",
    "- The denial strategy here would be expressed linguistically as \"But I thought that...\" / \"I wasn't sure whether...\""
   ]
  },
  {
   "cell_type": "markdown",
   "id": "04e9e91f-d240-4cea-8a91-5e4af407882d",
   "metadata": {
    "jp-MarkdownHeadingCollapsed": true,
    "tags": []
   },
   "source": [
    "## Example: Paltering (Notes)"
   ]
  },
  {
   "cell_type": "code",
   "execution_count": null,
   "id": "83e3b093-6dd0-4902-be0e-e3da59cf0bea",
   "metadata": {},
   "outputs": [],
   "source": [
    "def calculate_S1_J(L0, possible_Gs, alpha, beta, gamma, costs):\n",
    "    \"\"\"\n",
    "    The judge's model of the speaker\n",
    "    \n",
    "    Parameters\n",
    "    ----------\n",
    "    possible_Gs: array\n",
    "        Dimensions: (G, utterance, state)\n",
    "        Records for each G\n",
    "        the probability of S producing each utterance given each state\n",
    "    L0: array\n",
    "        Dimensions: (utterance, state)\n",
    "    \"\"\"\n",
    "    # dimensions: (G, utterance, state)\n",
    "    # encodes the probability of u given the speaker's belief in the first dimension\n",
    "    # which is also the unnormalized probability of each strategy (second dimension)\n",
    "    softmax_across_us = softmax(\n",
    "        beta*L0[None] + gamma*possible_Gs - costs[None,:,None],\n",
    "        alpha,\n",
    "        # normalize across utterances\n",
    "        axis=-2\n",
    "    )\n",
    "    return np.nan_to_num(softmax_across_us)"
   ]
  },
  {
   "cell_type": "markdown",
   "id": "4149e8cb-390c-446a-940b-f6997c88d760",
   "metadata": {
    "jp-MarkdownHeadingCollapsed": true,
    "tags": []
   },
   "source": [
    "### Speaker's goal"
   ]
  },
  {
   "cell_type": "markdown",
   "id": "86c9c797-7013-4366-8ebb-1b80db396d6c",
   "metadata": {},
   "source": [
    "- $G$ aims for $L$ to form a certain goal-belief $\\sigma$ that might not be the one she knows to be true.\n",
    "    - This is socially unacceptable, as a general principle, and therefore if an accusation happens is punished unless successfully denied\n",
    "    - We assume that it's convenient for the speaker that the listener has certain beliefs, independently of what the true state is. Therefore, $G$ does not depend on the speaker's belief state (though it might happen that by chance $\\sigma$ is identical to $i$)\n",
    "        - In general, it can be otherwise. For instance it's possible that the speaker might want the listener to form a systematically false belief _as such_, which depends on what the speaker takes the true state to be (think e.g. competitive games like battleship).\n",
    "    - though the _punishment_ depends on the speaker's belief state\n",
    "    - For notational simplicity I write $G(u)$\n",
    "- $G$ simply tries to convince the $L_0$ of $\\sigma$. Let's write this type of $G$ as $G_{\\sigma}$:\n",
    "\n",
    "$$\n",
    "G_{\\sigma}(u) = \\log P_{L}(\\sigma \\mid u)\n",
    "$$\n",
    "\n",
    "- This of course makes it impossible that the speaker would produce an utterance that's not compatible with the goal belief to induce\n",
    "    - This is a simplification, but for now it can be thought of as \"If there's no utterance that's convenient for the speaker, the speaker would rather stay silent\" (where silence is compatible with everything)"
   ]
  },
  {
   "cell_type": "markdown",
   "id": "cc66e678-7a62-43d4-ae26-8696743e76a6",
   "metadata": {
    "jp-MarkdownHeadingCollapsed": true,
    "tags": []
   },
   "source": [
    "### The punishment function"
   ]
  },
  {
   "cell_type": "markdown",
   "id": "8320d128-54ff-4d72-b5d9-a5939196e418",
   "metadata": {},
   "source": [
    "- For a given $G$, the judge punishes (by 1) any $G$ that aims to do anything other than attempting to convey the truth (where $s$ is the speaker's believed state), and doesn't punish otherwise:\n",
    "\n",
    "$$\n",
    "U_J(G_\\sigma, s) = [ \\sigma \\not= s]\n",
    "$$\n",
    "    \n",
    "- This means that the judge punished any systematic misleadingness, even if the speaker is only interested in only one specific way of being misleading.\n",
    "    - This makes sense intuitively, even though in reality some ways of being misleading might be worse than others!"
   ]
  },
  {
   "cell_type": "code",
   "execution_count": null,
   "id": "2cfd0ff4-567c-4b89-891a-d2daedfad2d4",
   "metadata": {},
   "outputs": [],
   "source": [
    "def calculate_possible_Gs(informativity):\n",
    "    \"\"\"\n",
    "    returns array that encodes the usefulness of u given s for each sigma\n",
    "    Each G is encoded as an array with dimensions (utterance, state), i.e. (utterance, speaker's belief)\n",
    "    There is one G for each possible value of sigma, and therefore:\n",
    "    The dimensions of possible_Gs is (sigma, utterance, speaker's belief), i.e. (state, utterance, state)\n",
    "    \"\"\"\n",
    "    return np.tile(\n",
    "        informativity.T[:,:,None], \n",
    "        (1,1,informativity.shape[-1])\n",
    "    )"
   ]
  },
  {
   "cell_type": "code",
   "execution_count": 11,
   "id": "6e8e25a5-75f3-43be-8d52-0859de15eb7f",
   "metadata": {},
   "outputs": [],
   "source": [
    "def calculate_punishment(L0, possible_Gs, alpha, beta, gamma, costs, speaker_f=calculate_S_J):\n",
    "    \"\"\"\n",
    "    This function returns for each speaker belief the punishment for each strategy\n",
    "    Returns array with shape (state, state, utterance, state), i.e. (speaker's belief, sigma, utterance, speaker's belief)\n",
    "    \"\"\"\n",
    "    \n",
    "    # Dimensions: (sigma, utterance, state)\n",
    "    S1_J = speaker_f(\n",
    "        L0, \n",
    "        alpha, \n",
    "        costs\n",
    "    )\n",
    "    \n",
    "    # Q to answer: given an utterance and a belief, is any of the most likely strategies not misleading?\n",
    "    \n",
    "    # First, calculate the most likely strategies:\n",
    "    # Is each strategy among the most likely, given\n",
    "    # each combination of utterance and state?\n",
    "    # (note that there can be more than equally most likely, \n",
    "    # so it's a boolean mask)\n",
    "    most_likely = (S1_J.max(axis=0, keepdims=True) == S1_J)\n",
    "    \n",
    "    # Second, calculate if each strategy is misleading\n",
    "    # (i.e., if sigma equals the state)\n",
    "    sigma_index, _, state_index = np.indices(most_likely.shape)\n",
    "    misleading = sigma_index != state_index\n",
    "    \n",
    "    # Third, calculate material conditional: \n",
    "    # if a strategy is among the most likely ones, is it misleading?\n",
    "    # I.e. find strategies that are most likely AND not misleading\n",
    "    material_conditional = most_likely & ~misleading\n",
    "    \n",
    "    # Finally, check that for each combination of state and signal\n",
    "    # At least one of the most likely strategies is not misleading\n",
    "    punishment_avoidable = material_conditional.any(0)\n",
    "    \n",
    "    return (~punishment_avoidable).astype(int)"
   ]
  },
  {
   "cell_type": "markdown",
   "id": "db260334-109d-4cd0-9fa3-a01fa14c0b55",
   "metadata": {
    "jp-MarkdownHeadingCollapsed": true,
    "tags": []
   },
   "source": [
    "# Refinement 4: Alternative blameless speakers"
   ]
  },
  {
   "cell_type": "markdown",
   "id": "98d5a96c-a768-4889-a756-7bc53eaafc32",
   "metadata": {},
   "source": [
    "In a more general way, PD often relies not on showing that the speaker was mistaken about the truth, but rather on the speaker arguing that they are in some different from what the listener had assumed. There are many types of possible differences, but they ultimately all have to do with the speaker qua conditional distribution over utterances given a state and an intention.\n",
    "\n",
    "\\begin{align}\n",
    "U_{S}(u ; s) = \\\\\n",
    "+ \\beta \\, & \\log \\left( p_{L}(s \\mid u) \\right) \\\\\n",
    "+ \\gamma \\, & G( u ; s ) \\\\\n",
    "- \\delta \\, & \\sum_{\\hat{G} \\in \\Gamma, \\, \\zeta \\in Z} \\left( P_{J}(\\hat{G} \\mid u, s, z) U_J(\\hat{G}, s) \\right) \\\\\n",
    "- \\, & C(u) \n",
    "\\end{align}\n",
    "\n",
    "- $Z$ is a set of possible speakers (functions from knowledge states to distributions over utterances)\n",
    "- Now $P_J$ is also considers a particular speaker that might not be the same as the real speaker\n",
    "    - E.g. $Z$ might be $\\{ L_0, L_1 \\}$\n",
    "    - Or $Z$ might be $L_1$ parameterized by $\\alpha$\n",
    "    - Or the speakers in $Z$ might have slightly different interpretation functions"
   ]
  },
  {
   "cell_type": "markdown",
   "id": "1b25a850-a439-4608-bd16-f3c61ae4fea3",
   "metadata": {},
   "source": [
    "## Example: Dogwhistles"
   ]
  },
  {
   "cell_type": "code",
   "execution_count": null,
   "id": "c42bc181-c196-4941-933c-d6ac8e4100f6",
   "metadata": {},
   "outputs": [],
   "source": []
  },
  {
   "cell_type": "markdown",
   "id": "97dae94f-2ce5-4a03-930c-baafbe991ee2",
   "metadata": {
    "jp-MarkdownHeadingCollapsed": true,
    "tags": []
   },
   "source": [
    "# Refinement 5: A PCFG for speakers (i.e. a _space_ of excuses)"
   ]
  },
  {
   "cell_type": "markdown",
   "id": "e70a808d-50ac-4e28-bbf3-706a37782e65",
   "metadata": {},
   "source": [
    "TODO\n",
    "\n",
    "- The intuition here is that the task of the PD speaker is to _come up_ with (/ construct) an excuse that will let them get away with the utterance. \n",
    "- This excuse takes the form of an alternative speaker that the PD speaker can claim to really have been. \n",
    "- As long as _one_ such blameless hypothetical speaker can be constructed, the PD can be successful \n",
    "    - This is why in specific cases of PD above we have a feeling that the alternatives are oddly unrelated: there is the true alternative and then some constructed alternative. Further alternatives are useless.\n",
    "    - TODO: I have a rough intuition that this makes the recognition of PD something like a Monty Hall problem. To think about.\n",
    "- From a cognitive point of view, the task can then be formulated as: construct a blameless speaker who would have produced your behaviour with a probability at least as high as yours.\n",
    "- This construction means exploring a space of possible speakers, with some constraints \n",
    "    - They have to be possible speakers from the judge's point of view\n",
    "    - They have to be such that they would have likely produced the utterance.\n",
    "- A natural way of modelling this construction process is with a PCFG of speakers \n",
    "    - Though it might have to be quite a rich grammar\n",
    "    - The task is not to find a full posterior over PCFGs, but rather a single one that satisfies certain conditions. This can make the search easier.\n",
    "    - Though there might be multiple options and local maxima. \n",
    "    - Simulated annealing might be a natural choice here. \n",
    "- This can explain another wrinkle in PD:\n",
    "    - A common strategy is to construct a blameless speaker that the listener isn't even considering\n",
    "    - And then if we need to plausibly deny, we _expand_ the space of speakers that the listener considers.\n",
    "        - This relies on the fact that the judge punishes wrt to all the options we can conjure when we deny, not wrt to the ones that were available at utterance time. \n",
    "- TODO: Think of a good illustrative example of this!"
   ]
  },
  {
   "cell_type": "markdown",
   "id": "f3c87ca0-b9ee-4e9d-81c2-20b865d41b4e",
   "metadata": {
    "jp-MarkdownHeadingCollapsed": true,
    "tags": []
   },
   "source": [
    "# Notes (Disregard)"
   ]
  },
  {
   "cell_type": "markdown",
   "id": "dfef2c80-a0f3-48d5-8aea-33828aaae8a7",
   "metadata": {},
   "source": [
    "- Question: is there more structure in $R$ and $G$ across all cases of PD? Hypothesis: In most cases of PD $R$ can be naturally modelled as an RSA listener of various kinds.\n",
    "- The model points to the symmetric case to PD: sometimes there's no utterance that doesn't mislead the judge in terms of what $G$ is. In other words, it's hard for the speaker to convey something without giving a false impression and be punished for it.\n",
    "- Possible experiment"
   ]
  },
  {
   "cell_type": "markdown",
   "id": "2b737ce8-ef6a-4d72-baa3-0cf9fd777ced",
   "metadata": {},
   "source": [
    "- Experiments that simulate the production/understanding of utterances that do something that’s plausible deniable\n",
    "    - Simulated courtroom cross-examination\n",
    "    - Simulated insurance contract\n",
    "    - Simulated dogwhistles \n",
    "    - Two groups of listeners with misaligned interests\n",
    "    - One group has punishing power, the other has supporting power\n",
    "- Experiments that simulate the production/understanding of denial of previously done (possibly linguistic) actions \n",
    "    - Pedantry\n",
    "    - Listener deniability (which is the deniability of an interpretation)\n",
    "\n",
    "- Difference between conditions\n",
    "    - Listener’s awareness of the degree of cooperation / speaker’s RSA utility\n",
    "\n",
    "- Paltering experiment\n",
    "    - Have people _answer questions_ in a mock trial with knowledge of situation & guilt, see what alternative speakers they construct online while avoiding lies\n",
    "    - Like a simulated Bill Clinton"
   ]
  },
  {
   "cell_type": "markdown",
   "id": "c4adf012-da07-4db1-80ba-9304d6e4354e",
   "metadata": {},
   "source": [
    "## Some cases"
   ]
  },
  {
   "cell_type": "markdown",
   "id": "40a04d55-3b29-4473-b332-eaa877b73f7b",
   "metadata": {},
   "source": [
    "- Covert aggression\n",
    "- Deceiptful implicatures\n",
    "- Dogwhistles\n",
    "- Bribery\n",
    "- Flirting"
   ]
  },
  {
   "cell_type": "markdown",
   "id": "956b3c99-e3c7-4e49-9731-fdc8ba11851a",
   "metadata": {},
   "source": [
    "## Other cases"
   ]
  },
  {
   "cell_type": "markdown",
   "id": "2c46ab53-7653-467e-84d0-298335d68e2e",
   "metadata": {},
   "source": [
    "- \"Addressee-recognition PD\" (ARPD): $G$ depends on the (espected probability of the) addressee forming a certain belief (based on the speaker's utterance) about the speaker's mental state (beyond settling the world state described by the utterance. See below). \n",
    "    - Examples of ARPD: $G$ aims for the listener the come to believe that the speaker...\n",
    "        - has certain communicative intentions (covert insults)\n",
    "        - has certain desires (indirect requests)\n",
    "    - The point here is that $G$ can be modelled as a listener that does joint inference on the state and the way the speaker is\n",
    "    - Depending on one's account of how assertion works (how propositions are added to the common ground), misleading implicatures might belong here. \n",
    "        - Depending on one's answer to the q: does a listener come to believe the content of an utterance through the belief that the speaker believes what they asserted + trust? Or are there default mechanisms in the normal case?\n",
    "        - This doesn't matter too much for the modelling.\n",
    "    - In ARPD the listener is co-inferring world-state and some parameter $\\phi$ that describes something about the speaker (e.g. their intentions / beliefs / desires / some other feature of their identity).\n",
    "    - The speaker intends for the listener to infer some specific value of $\\phi$.\n",
    "    - The belief to induce in the listener might be accurate (e.g. flirting, attempted bribery) or inaccurate (e.g. misleading implicatures)\n",
    "    - Again, $G$ doesn't depend on the true state $s$\n",
    "- belonging to a certain social group (dogwhistles)\n",
    "    - Dogwhistles (arguably) don't belong to ARPD because (at least distally) they don't aim for the listener to recognize a mental state in the speaker, but rather some social fact about the speaker\n",
    "- E.g., scenario: A is talking to B and C is overhearing. A knows that C is overhearing and B doesn't. A intentionally conveys something hidden to C by talking to B, without B realizing that that is happening. (Arguably C is also a \"listener\" in the relevant sense, arguably not. It doesn't matter too much for the model)"
   ]
  },
  {
   "cell_type": "markdown",
   "id": "061c4657-8a46-4d38-a523-290b31803e56",
   "metadata": {},
   "source": [
    "## Covert aggression \n",
    "- Take the simplest imaginable case where one might want to convey something different from the truth in a PD way.\n",
    "    - I try some food made by someone I don't like but I'm on polite terms with \n",
    "    - (I can't be overly aggressive but I can do a covert insult) \n",
    "    - They ask me what I thought of the food.\n",
    "    - Possible utterances: \"It tasted bad\" | \"It tasted good\" | \"It was edible\"\n",
    "- (TOTHINK: What does the Yoon model predict in this context??)"
   ]
  }
 ],
 "metadata": {
  "kernelspec": {
   "display_name": "Python 3 (ipykernel)",
   "language": "python",
   "name": "python3"
  },
  "language_info": {
   "codemirror_mode": {
    "name": "ipython",
    "version": 3
   },
   "file_extension": ".py",
   "mimetype": "text/x-python",
   "name": "python",
   "nbconvert_exporter": "python",
   "pygments_lexer": "ipython3",
   "version": "3.8.12"
  },
  "toc-autonumbering": true
 },
 "nbformat": 4,
 "nbformat_minor": 5
}
